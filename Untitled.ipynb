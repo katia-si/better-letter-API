{
 "cells": [
  {
   "cell_type": "code",
   "execution_count": 1,
   "id": "68c6261d-7669-4609-a9a3-17c0d78f8134",
   "metadata": {},
   "outputs": [],
   "source": [
    "%load_ext autoreload\n",
    "%autoreload 2"
   ]
  },
  {
   "cell_type": "code",
   "execution_count": 2,
   "id": "724a5e0c-34cf-4c35-96db-1bb960418682",
   "metadata": {},
   "outputs": [],
   "source": [
    "import requests\n",
    "\n",
    "#url = \"http://127.0.0.1:8000/translate\" local\n",
    "\n",
    "url = \"https://translator-ooqm7vogaa-ew.a.run.app/translate\"\n",
    "\n",
    "params = {\"german_text\": \"Die Mitarbeiterinnen und Mitarbeiter in der Verwaltung der Landeshauptstadt Potsdam verstehen sich als Dienstleister für die Bevölkerung, die Unternehmen und die Gäste Potsdams. Hier finden Sie die Bürgerdienstleistungen, die Verwaltungsstruktur, Ansprechpartner*innen, Öffnungszeiten, Antragsformulare und Lagepläne.\"}\n"
   ]
  },
  {
   "cell_type": "code",
   "execution_count": 3,
   "id": "167e62b6-07dc-4c07-8a8d-319b0f2dd606",
   "metadata": {},
   "outputs": [
    {
     "name": "stdout",
     "output_type": "stream",
     "text": [
      "{'translated_text': 'The employees in the administration of the state capital Potsdam see themselves as service providers for the population, the companies and the guests of Potsdam. Here you will find the citizen services, the administrative structure, contact persons, opening hours, application forms and maps.'}\n"
     ]
    }
   ],
   "source": [
    "response = requests.get(url, params)\n",
    "print(response.json())"
   ]
  },
  {
   "cell_type": "code",
   "execution_count": null,
   "id": "b2864d65",
   "metadata": {},
   "outputs": [],
   "source": []
  },
  {
   "cell_type": "code",
   "execution_count": null,
   "id": "318c382f",
   "metadata": {},
   "outputs": [],
   "source": []
  }
 ],
 "metadata": {
  "kernelspec": {
   "display_name": "Python 3 (ipykernel)",
   "language": "python",
   "name": "python3"
  },
  "language_info": {
   "codemirror_mode": {
    "name": "ipython",
    "version": 3
   },
   "file_extension": ".py",
   "mimetype": "text/x-python",
   "name": "python",
   "nbconvert_exporter": "python",
   "pygments_lexer": "ipython3",
   "version": "3.10.6"
  }
 },
 "nbformat": 4,
 "nbformat_minor": 5
}
